{
 "cells": [
  {
   "cell_type": "code",
   "execution_count": 128,
   "metadata": {},
   "outputs": [],
   "source": [
    "import cv2\n",
    "import numpy as np\n",
    "import matplotlib.pyplot as plt"
   ]
  },
  {
   "cell_type": "code",
   "execution_count": 129,
   "metadata": {},
   "outputs": [],
   "source": [
    "brainscan = cv2.imread(\"/home/ashritha/ImageProcessing/BrainExtraction/brain_scan.png\")"
   ]
  },
  {
   "cell_type": "code",
   "execution_count": 130,
   "metadata": {},
   "outputs": [],
   "source": [
    "brainscangray = cv2.cvtColor(brainscan,cv2.COLOR_BGR2GRAY)"
   ]
  },
  {
   "cell_type": "code",
   "execution_count": 132,
   "metadata": {},
   "outputs": [],
   "source": [
    "plt.imshow(brainscan)\n",
    "plt.show()"
   ]
  },
  {
   "cell_type": "code",
   "execution_count": 133,
   "metadata": {},
   "outputs": [
    {
     "data": {
      "text/plain": [
       "(285, 450, 3)"
      ]
     },
     "execution_count": 133,
     "metadata": {},
     "output_type": "execute_result"
    }
   ],
   "source": [
    "brainscan.shape"
   ]
  },
  {
   "cell_type": "code",
   "execution_count": 134,
   "metadata": {},
   "outputs": [],
   "source": [
    "brainscan = brainscan[:,190:,:]"
   ]
  },
  {
   "cell_type": "code",
   "execution_count": 135,
   "metadata": {},
   "outputs": [
    {
     "data": {
      "text/plain": [
       "True"
      ]
     },
     "execution_count": 135,
     "metadata": {},
     "output_type": "execute_result"
    }
   ],
   "source": [
    "plt.imshow(brainscan)\n",
    "plt.show()\n",
    "cv2.imwrite(\"/home/ashritha/ImageProcessing/BrainExtraction/brain_scan.png\",brainscan)"
   ]
  },
  {
   "cell_type": "code",
   "execution_count": 136,
   "metadata": {},
   "outputs": [],
   "source": [
    "plt.imshow(brainscangray,cmap=\"gray\")\n",
    "plt.show()"
   ]
  },
  {
   "cell_type": "code",
   "execution_count": 137,
   "metadata": {},
   "outputs": [
    {
     "data": {
      "text/plain": [
       "(285, 450)"
      ]
     },
     "execution_count": 137,
     "metadata": {},
     "output_type": "execute_result"
    }
   ],
   "source": [
    "brainscangray.shape"
   ]
  },
  {
   "cell_type": "code",
   "execution_count": 138,
   "metadata": {},
   "outputs": [],
   "source": [
    "brainscangray = brainscangray[:,190:]"
   ]
  },
  {
   "cell_type": "code",
   "execution_count": 139,
   "metadata": {},
   "outputs": [
    {
     "data": {
      "text/plain": [
       "(285, 260)"
      ]
     },
     "execution_count": 139,
     "metadata": {},
     "output_type": "execute_result"
    }
   ],
   "source": [
    "brainscangray.shape"
   ]
  },
  {
   "cell_type": "code",
   "execution_count": 140,
   "metadata": {},
   "outputs": [
    {
     "data": {
      "text/plain": [
       "True"
      ]
     },
     "execution_count": 140,
     "metadata": {},
     "output_type": "execute_result"
    }
   ],
   "source": [
    "plt.imshow(brainscangray,cmap=\"gray\")\n",
    "plt.show()\n",
    "cv2.imwrite(\"/home/ashritha/ImageProcessing/BrainExtraction/brain_scan_gray.png\",brainscangray)"
   ]
  },
  {
   "cell_type": "code",
   "execution_count": 141,
   "metadata": {},
   "outputs": [],
   "source": [
    "hist = cv2.equalizeHist(brainscangray)"
   ]
  },
  {
   "cell_type": "code",
   "execution_count": 142,
   "metadata": {},
   "outputs": [],
   "source": [
    "plt.imshow(hist,cmap=\"gray\")\n",
    "plt.show()"
   ]
  },
  {
   "cell_type": "code",
   "execution_count": 143,
   "metadata": {},
   "outputs": [],
   "source": [
    "ret,threshold = cv2.threshold(hist,0,255,cv2.THRESH_BINARY+cv2.THRESH_OTSU)"
   ]
  },
  {
   "cell_type": "code",
   "execution_count": 144,
   "metadata": {},
   "outputs": [],
   "source": [
    "plt.imshow(threshold,cmap=\"gray\")\n",
    "plt.show()"
   ]
  },
  {
   "cell_type": "code",
   "execution_count": 145,
   "metadata": {},
   "outputs": [],
   "source": [
    "kernel = np.ones((5,5),np.uint8)"
   ]
  },
  {
   "cell_type": "code",
   "execution_count": 146,
   "metadata": {},
   "outputs": [],
   "source": [
    "opening = cv2.morphologyEx(threshold,cv2.MORPH_OPEN,kernel)"
   ]
  },
  {
   "cell_type": "code",
   "execution_count": 147,
   "metadata": {},
   "outputs": [],
   "source": [
    "plt.imshow(opening,cmap=\"gray\")\n",
    "plt.show()"
   ]
  },
  {
   "cell_type": "code",
   "execution_count": 148,
   "metadata": {},
   "outputs": [],
   "source": [
    "output = cv2.connectedComponentsWithStats(threshold,4,cv2.CV_32S)"
   ]
  },
  {
   "cell_type": "code",
   "execution_count": 149,
   "metadata": {},
   "outputs": [],
   "source": [
    "components = output[0]\n",
    "labelImg = output[1]\n",
    "stats = output[2]"
   ]
  },
  {
   "cell_type": "code",
   "execution_count": 150,
   "metadata": {},
   "outputs": [
    {
     "data": {
      "text/plain": [
       "78"
      ]
     },
     "execution_count": 150,
     "metadata": {},
     "output_type": "execute_result"
    }
   ],
   "source": [
    "components"
   ]
  },
  {
   "cell_type": "code",
   "execution_count": 151,
   "metadata": {},
   "outputs": [
    {
     "data": {
      "text/plain": [
       "array([[    0,     0,   260,   285, 42619],\n",
       "       [  164,    29,     1,     1,     1],\n",
       "       [  166,    29,     1,     1,     1],\n",
       "       [  170,    29,     2,     1,     2],\n",
       "       [  173,    29,     1,     1,     1],\n",
       "       [    5,    30,   254,   254,  6361],\n",
       "       [  123,    33,     1,     1,     1],\n",
       "       [  146,    40,     1,     1,     1],\n",
       "       [  172,    40,     2,     1,     2],\n",
       "       [   47,    43,   205,   204, 17675],\n",
       "       [  153,    42,     3,     2,     5],\n",
       "       [  178,    42,     8,     6,    18],\n",
       "       [  186,    42,    23,    12,    70],\n",
       "       [  210,    55,     4,     3,     6],\n",
       "       [  214,    59,     1,     1,     1],\n",
       "       [  216,    61,     5,     7,    11],\n",
       "       [  222,    69,     5,     7,     7],\n",
       "       [  230,    82,     1,     2,     2],\n",
       "       [   48,    88,     2,     1,     2],\n",
       "       [   47,    92,     1,     1,     1],\n",
       "       [  239,   105,     1,     1,     1],\n",
       "       [  119,   108,     1,     2,     2],\n",
       "       [  248,   113,     1,     2,     2],\n",
       "       [  249,   116,     1,     1,     1],\n",
       "       [  249,   119,     2,     2,     3],\n",
       "       [  251,   123,     1,     1,     1],\n",
       "       [  173,   131,     5,     3,    10],\n",
       "       [   66,   143,     1,     1,     1],\n",
       "       [  108,   142,    12,     7,    58],\n",
       "       [   64,   150,     2,     3,     5],\n",
       "       [   53,   152,     2,     2,     3],\n",
       "       [   49,   159,    22,    13,   128],\n",
       "       [   94,   164,     1,     1,     1],\n",
       "       [  123,   165,     2,     3,     6],\n",
       "       [  101,   167,     1,     1,     1],\n",
       "       [  107,   166,    50,   118,  1249],\n",
       "       [   82,   168,     2,     2,     3],\n",
       "       [  126,   169,     3,     3,     4],\n",
       "       [   68,   171,     5,     2,     6],\n",
       "       [   77,   170,     2,     1,     2],\n",
       "       [  135,   171,     3,     3,     8],\n",
       "       [  212,   171,     4,     3,     5],\n",
       "       [   39,   175,    34,    15,   183],\n",
       "       [   65,   177,     5,     1,     5],\n",
       "       [  128,   177,     2,     1,     2],\n",
       "       [  214,   176,     9,     5,    14],\n",
       "       [   79,   178,     1,     1,     1],\n",
       "       [  131,   179,     1,     1,     1],\n",
       "       [  211,   181,     1,     1,     1],\n",
       "       [   76,   182,    10,     6,    30],\n",
       "       [  193,   183,     1,     1,     1],\n",
       "       [   27,   190,     1,     1,     1],\n",
       "       [   24,   190,    18,    28,   317],\n",
       "       [   29,   191,    92,    93,  5017],\n",
       "       [  181,   192,     1,     1,     1],\n",
       "       [   44,   195,     6,     7,    23],\n",
       "       [   52,   194,     2,     3,     5],\n",
       "       [  131,   200,     2,     3,     6],\n",
       "       [  134,   218,     4,     5,    18],\n",
       "       [  140,   218,     1,     1,     1],\n",
       "       [  141,   223,     2,     8,    10],\n",
       "       [  167,   226,     3,     4,     8],\n",
       "       [  137,   229,     3,     3,     7],\n",
       "       [  146,   230,     1,     2,     2],\n",
       "       [  139,   241,     3,     3,     5],\n",
       "       [  114,   245,     1,     1,     1],\n",
       "       [  140,   245,     1,     1,     1],\n",
       "       [   47,   246,     5,     7,    20],\n",
       "       [  158,   248,     9,    36,    91],\n",
       "       [   44,   260,     2,     2,     2],\n",
       "       [  144,   260,     2,     5,     7],\n",
       "       [  147,   261,     3,     4,     9],\n",
       "       [  147,   267,     1,     1,     1],\n",
       "       [  147,   269,     3,     1,     3],\n",
       "       [  147,   277,     3,     4,    10],\n",
       "       [  152,   277,     2,     5,     7],\n",
       "       [  153,   283,     1,     1,     1],\n",
       "       [  216,   283,     1,     1,     1]], dtype=int32)"
      ]
     },
     "execution_count": 151,
     "metadata": {},
     "output_type": "execute_result"
    }
   ],
   "source": [
    "stats"
   ]
  },
  {
   "cell_type": "code",
   "execution_count": 152,
   "metadata": {},
   "outputs": [],
   "source": [
    "areas = stats[:,-1]"
   ]
  },
  {
   "cell_type": "code",
   "execution_count": 153,
   "metadata": {},
   "outputs": [
    {
     "data": {
      "text/plain": [
       "array([42619,     1,     1,     2,     1,  6361,     1,     1,     2,\n",
       "       17675,     5,    18,    70,     6,     1,    11,     7,     2,\n",
       "           2,     1,     1,     2,     2,     1,     3,     1,    10,\n",
       "           1,    58,     5,     3,   128,     1,     6,     1,  1249,\n",
       "           3,     4,     6,     2,     8,     5,   183,     5,     2,\n",
       "          14,     1,     1,     1,    30,     1,     1,   317,  5017,\n",
       "           1,    23,     5,     6,    18,     1,    10,     8,     7,\n",
       "           2,     5,     1,     1,    20,    91,     2,     7,     9,\n",
       "           1,     3,    10,     7,     1,     1], dtype=int32)"
      ]
     },
     "execution_count": 153,
     "metadata": {},
     "output_type": "execute_result"
    }
   ],
   "source": [
    "areas"
   ]
  },
  {
   "cell_type": "code",
   "execution_count": 154,
   "metadata": {},
   "outputs": [],
   "source": [
    "max_area = areas[1]\n",
    "max_label = 1\n",
    "for i in range(2,components):\n",
    "    if areas[i]>max_area:\n",
    "        max_area = areas[i]\n",
    "        max_label = i\n",
    "\n",
    "max_img = np.zeros(labelImg.shape)"
   ]
  },
  {
   "cell_type": "code",
   "execution_count": 155,
   "metadata": {},
   "outputs": [],
   "source": [
    "max_img[labelImg == max_label] = 255"
   ]
  },
  {
   "cell_type": "code",
   "execution_count": 156,
   "metadata": {},
   "outputs": [],
   "source": [
    "plt.imshow(max_img)\n",
    "plt.show()"
   ]
  }
 ],
 "metadata": {
  "kernelspec": {
   "display_name": "Python 3",
   "language": "python",
   "name": "python3"
  },
  "language_info": {
   "codemirror_mode": {
    "name": "ipython",
    "version": 3
   },
   "file_extension": ".py",
   "mimetype": "text/x-python",
   "name": "python",
   "nbconvert_exporter": "python",
   "pygments_lexer": "ipython3",
   "version": "3.4.3"
  }
 },
 "nbformat": 4,
 "nbformat_minor": 2
}
