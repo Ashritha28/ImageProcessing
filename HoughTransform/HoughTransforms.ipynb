{
 "cells": [
  {
   "cell_type": "code",
   "execution_count": 65,
   "metadata": {},
   "outputs": [],
   "source": [
    "import cv2\n",
    "import numpy as np\n",
    "import matplotlib.pyplot as plt"
   ]
  },
  {
   "cell_type": "code",
   "execution_count": 66,
   "metadata": {},
   "outputs": [],
   "source": [
    "#Detect lines in chess board\n",
    "chessoriginal = cv2.imread(\"/home/ashritha/ImageProcessing/HoughTransform/chess.png\")\n",
    "chess = cv2.cvtColor(chessoriginal,cv2.COLOR_BGR2GRAY)"
   ]
  },
  {
   "cell_type": "code",
   "execution_count": 76,
   "metadata": {},
   "outputs": [
    {
     "data": {
      "text/plain": [
       "True"
      ]
     },
     "execution_count": 76,
     "metadata": {},
     "output_type": "execute_result"
    }
   ],
   "source": [
    "plt.imshow(chess,cmap=\"gray\")\n",
    "plt.show()\n",
    "cv2.imwrite(\"/home/ashritha/ImageProcessing/HoughTransform/chessgray.png\",chess)"
   ]
  },
  {
   "cell_type": "code",
   "execution_count": 68,
   "metadata": {},
   "outputs": [],
   "source": [
    "edges = cv2.Canny(chess,100,200)"
   ]
  },
  {
   "cell_type": "code",
   "execution_count": 77,
   "metadata": {},
   "outputs": [
    {
     "data": {
      "text/plain": [
       "True"
      ]
     },
     "execution_count": 77,
     "metadata": {},
     "output_type": "execute_result"
    }
   ],
   "source": [
    "plt.imshow(edges,cmap=\"gray\")\n",
    "plt.show()\n",
    "cv2.imwrite(\"/home/ashritha/ImageProcessing/HoughTransform/chessedges.png\",edges)"
   ]
  },
  {
   "cell_type": "code",
   "execution_count": 46,
   "metadata": {
    "scrolled": true
   },
   "outputs": [
    {
     "name": "stdout",
     "output_type": "stream",
     "text": [
      "Help on built-in function HoughLines:\n",
      "\n",
      "HoughLines(...)\n",
      "    HoughLines(image, rho, theta, threshold[, lines[, srn[, stn[, min_theta[, max_theta]]]]]) -> lines\n",
      "\n"
     ]
    }
   ],
   "source": [
    "help(cv2.HoughLines)"
   ]
  },
  {
   "cell_type": "code",
   "execution_count": 71,
   "metadata": {},
   "outputs": [],
   "source": [
    "lines = cv2.HoughLines(edges,1,np.pi/180,100)"
   ]
  },
  {
   "cell_type": "code",
   "execution_count": 72,
   "metadata": {},
   "outputs": [
    {
     "data": {
      "text/plain": [
       "array([[[  24.        ,    0.        ]],\n",
       "\n",
       "       [[  49.        ,    0.        ]],\n",
       "\n",
       "       [[  74.        ,    0.        ]],\n",
       "\n",
       "       [[  99.        ,    0.        ]],\n",
       "\n",
       "       [[ 124.        ,    0.        ]],\n",
       "\n",
       "       [[ 149.        ,    0.        ]],\n",
       "\n",
       "       [[ 174.        ,    0.        ]],\n",
       "\n",
       "       [[  24.        ,    1.57079637]],\n",
       "\n",
       "       [[  49.        ,    1.57079637]],\n",
       "\n",
       "       [[  74.        ,    1.57079637]],\n",
       "\n",
       "       [[  99.        ,    1.57079637]],\n",
       "\n",
       "       [[ 124.        ,    1.57079637]],\n",
       "\n",
       "       [[ 149.        ,    1.57079637]],\n",
       "\n",
       "       [[ 174.        ,    1.57079637]]], dtype=float32)"
      ]
     },
     "execution_count": 72,
     "metadata": {},
     "output_type": "execute_result"
    }
   ],
   "source": [
    "lines"
   ]
  },
  {
   "cell_type": "code",
   "execution_count": 73,
   "metadata": {},
   "outputs": [
    {
     "data": {
      "text/plain": [
       "(14, 1, 2)"
      ]
     },
     "execution_count": 73,
     "metadata": {},
     "output_type": "execute_result"
    }
   ],
   "source": [
    "lines.shape"
   ]
  },
  {
   "cell_type": "code",
   "execution_count": 74,
   "metadata": {
    "scrolled": true
   },
   "outputs": [],
   "source": [
    "for i in range(lines.shape[0]):\n",
    "    for rho,theta in lines[i]:\n",
    "        a = np.cos(theta)\n",
    "        b = np.sin(theta)\n",
    "        x0 = a*rho\n",
    "        y0 = b*rho\n",
    "        x1 = int(x0+1000*(-b))\n",
    "        y1 = int(y0+1000*a)\n",
    "        x2 = int(x0-1000*(-b))\n",
    "        y2 = int(y0-1000*a)\n",
    "        cv2.line(chessoriginal,(x1,y1),(x2,y2),(0,0,255),2)\n",
    "    cv2.imwrite(\"/home/ashritha/ImageProcessing/HoughTransform/chess.png\",chessoriginal)"
   ]
  },
  {
   "cell_type": "code",
   "execution_count": 75,
   "metadata": {},
   "outputs": [],
   "source": [
    "plt.imshow(chessoriginal)\n",
    "plt.show()"
   ]
  },
  {
   "cell_type": "code",
   "execution_count": 126,
   "metadata": {},
   "outputs": [],
   "source": [
    "#Detect lines in an image\n",
    "linesoriginal = cv2.imread(\"/home/ashritha/ImageProcessing/HoughTransform/lines.jpeg\")"
   ]
  },
  {
   "cell_type": "code",
   "execution_count": 127,
   "metadata": {},
   "outputs": [],
   "source": [
    "lines = cv2.cvtColor(linesoriginal,cv2.COLOR_BGR2GRAY)"
   ]
  },
  {
   "cell_type": "code",
   "execution_count": 128,
   "metadata": {},
   "outputs": [
    {
     "data": {
      "text/plain": [
       "True"
      ]
     },
     "execution_count": 128,
     "metadata": {},
     "output_type": "execute_result"
    }
   ],
   "source": [
    "plt.imshow(lines,cmap=\"gray\")\n",
    "plt.show()\n",
    "cv2.imwrite(\"/home/ashritha/ImageProcessing/HoughTransform/linesgray.jpeg\",lines)"
   ]
  },
  {
   "cell_type": "code",
   "execution_count": 129,
   "metadata": {},
   "outputs": [],
   "source": [
    "edges = cv2.Canny(lines,100,200)"
   ]
  },
  {
   "cell_type": "code",
   "execution_count": 130,
   "metadata": {},
   "outputs": [],
   "source": [
    "plt.imshow(edges,cmap=\"gray\")\n",
    "plt.show()"
   ]
  },
  {
   "cell_type": "code",
   "execution_count": 137,
   "metadata": {},
   "outputs": [],
   "source": [
    "houghLines = cv2.HoughLines(edges,1,np.pi/180,130)"
   ]
  },
  {
   "cell_type": "code",
   "execution_count": 138,
   "metadata": {},
   "outputs": [
    {
     "data": {
      "text/plain": [
       "array([[[ 156.        ,    0.78539819]],\n",
       "\n",
       "       [[ 144.        ,    0.78539819]],\n",
       "\n",
       "       [[ 168.        ,    0.78539819]],\n",
       "\n",
       "       [[ 177.        ,    0.78539819]],\n",
       "\n",
       "       [[ 132.        ,    0.78539819]],\n",
       "\n",
       "       [[ 153.        ,    0.78539819]],\n",
       "\n",
       "       [[ 165.        ,    0.78539819]],\n",
       "\n",
       "       [[ 180.        ,    0.78539819]],\n",
       "\n",
       "       [[ 120.        ,    0.78539819]],\n",
       "\n",
       "       [[ 141.        ,    0.78539819]],\n",
       "\n",
       "       [[ 192.        ,    0.78539819]],\n",
       "\n",
       "       [[ 129.        ,    0.78539819]],\n",
       "\n",
       "       [[ 151.        ,    0.78539819]],\n",
       "\n",
       "       [[ 162.        ,    0.78539819]],\n",
       "\n",
       "       [[ 139.        ,    0.78539819]],\n",
       "\n",
       "       [[ 174.        ,    0.78539819]],\n",
       "\n",
       "       [[ 182.        ,    0.78539819]],\n",
       "\n",
       "       [[ 127.        ,    0.78539819]],\n",
       "\n",
       "       [[ 170.        ,    0.78539819]],\n",
       "\n",
       "       [[ 204.        ,    0.78539819]],\n",
       "\n",
       "       [[ 190.        ,    0.78539819]],\n",
       "\n",
       "       [[ 117.        ,    0.78539819]],\n",
       "\n",
       "       [[ 186.        ,    0.78539819]],\n",
       "\n",
       "       [[ 158.        ,    0.78539819]],\n",
       "\n",
       "       [[ 194.        ,    0.78539819]],\n",
       "\n",
       "       [[ 164.        ,    0.76794487]],\n",
       "\n",
       "       [[ 154.        ,    0.80285144]],\n",
       "\n",
       "       [[ 115.        ,    0.78539819]],\n",
       "\n",
       "       [[  -1.        ,    2.3561945 ]],\n",
       "\n",
       "       [[ 119.        ,    0.76794487]],\n",
       "\n",
       "       [[ 176.        ,    0.76794487]],\n",
       "\n",
       "       [[ 111.        ,    0.78539819]],\n",
       "\n",
       "       [[ 198.        ,    0.78539819]],\n",
       "\n",
       "       [[ 201.        ,    0.78539819]],\n",
       "\n",
       "       [[ 108.        ,    0.78539819]],\n",
       "\n",
       "       [[   6.        ,    2.3561945 ]],\n",
       "\n",
       "       [[ 123.        ,    0.78539819]],\n",
       "\n",
       "       [[ 206.        ,    0.78539819]],\n",
       "\n",
       "       [[  -8.        ,    2.3561945 ]],\n",
       "\n",
       "       [[ 103.        ,    0.78539819]],\n",
       "\n",
       "       [[ 166.        ,    0.80285144]],\n",
       "\n",
       "       [[   1.        ,    2.3561945 ]],\n",
       "\n",
       "       [[ 105.        ,    0.78539819]],\n",
       "\n",
       "       [[  -4.        ,    2.3561945 ]],\n",
       "\n",
       "       [[   4.        ,    2.3561945 ]],\n",
       "\n",
       "       [[   8.        ,    2.3561945 ]],\n",
       "\n",
       "       [[ 188.        ,    0.76794487]],\n",
       "\n",
       "       [[ 143.        ,    0.80285144]],\n",
       "\n",
       "       [[  -6.        ,    2.3561945 ]],\n",
       "\n",
       "       [[  11.        ,    2.3561945 ]],\n",
       "\n",
       "       [[ 157.        ,    0.80285144]],\n",
       "\n",
       "       [[ -11.        ,    2.3561945 ]],\n",
       "\n",
       "       [[ 210.        ,    0.78539819]],\n",
       "\n",
       "       [[ 179.        ,    0.80285144]],\n",
       "\n",
       "       [[  16.        ,    2.3561945 ]],\n",
       "\n",
       "       [[  99.        ,    0.78539819]],\n",
       "\n",
       "       [[ 216.        ,    0.78539819]],\n",
       "\n",
       "       [[ -16.        ,    2.3561945 ]],\n",
       "\n",
       "       [[ -13.        ,    2.3561945 ]],\n",
       "\n",
       "       [[ 161.        ,    0.75049156]],\n",
       "\n",
       "       [[ 169.        ,    0.80285144]],\n",
       "\n",
       "       [[  18.        ,    2.3561945 ]],\n",
       "\n",
       "       [[ 140.        ,    0.80285144]],\n",
       "\n",
       "       [[  13.        ,    2.3561945 ]],\n",
       "\n",
       "       [[ 213.        ,    0.78539819]],\n",
       "\n",
       "       [[  96.        ,    0.78539819]],\n",
       "\n",
       "       [[ 131.        ,    0.80285144]],\n",
       "\n",
       "       [[ 191.        ,    0.80285144]],\n",
       "\n",
       "       [[ -18.        ,    2.3561945 ]],\n",
       "\n",
       "       [[  91.        ,    0.78539819]],\n",
       "\n",
       "       [[ 218.        ,    0.78539819]],\n",
       "\n",
       "       [[ 128.        ,    0.80285144]],\n",
       "\n",
       "       [[ -21.        ,    2.3561945 ]],\n",
       "\n",
       "       [[  23.        ,    2.3561945 ]],\n",
       "\n",
       "       [[  21.        ,    2.3561945 ]],\n",
       "\n",
       "       [[ 107.        ,    0.76794487]],\n",
       "\n",
       "       [[ 214.        ,    0.76794487]],\n",
       "\n",
       "       [[  93.        ,    0.78539819]],\n",
       "\n",
       "       [[ 158.        ,    0.82030475]],\n",
       "\n",
       "       [[ -25.        ,    2.3561945 ]],\n",
       "\n",
       "       [[  25.        ,    2.3561945 ]],\n",
       "\n",
       "       [[ 148.        ,    0.73303831]],\n",
       "\n",
       "       [[ -28.        ,    2.3561945 ]],\n",
       "\n",
       "       [[ -23.        ,    2.3561945 ]]], dtype=float32)"
      ]
     },
     "execution_count": 138,
     "metadata": {},
     "output_type": "execute_result"
    }
   ],
   "source": [
    "houghLines"
   ]
  },
  {
   "cell_type": "code",
   "execution_count": 139,
   "metadata": {},
   "outputs": [
    {
     "data": {
      "text/plain": [
       "(84, 1, 2)"
      ]
     },
     "execution_count": 139,
     "metadata": {},
     "output_type": "execute_result"
    }
   ],
   "source": [
    "houghLines.shape"
   ]
  },
  {
   "cell_type": "code",
   "execution_count": 140,
   "metadata": {},
   "outputs": [],
   "source": [
    "for i in range(houghLines.shape[0]):\n",
    "    for rho,theta in houghLines[i]:\n",
    "        a = np.cos(theta)\n",
    "        b = np.sin(theta)\n",
    "        x0 = a*rho\n",
    "        y0 = b*rho\n",
    "        x1 = int(a+1000*(-b))\n",
    "        y1 = int(b+1000*(a))\n",
    "        x2 = int(a-1000*(-b))\n",
    "        y2 = int(b-1000*(a))\n",
    "        cv2.line(linesoriginal,(x1,y1),(x2,y2),(0,0,255),1)\n",
    "    cv2.imwrite(\"/home/ashritha/ImageProcessing/HoughTransform/lines.jpeg\",linesoriginal)"
   ]
  },
  {
   "cell_type": "code",
   "execution_count": 141,
   "metadata": {},
   "outputs": [],
   "source": [
    "plt.imshow(linesoriginal)\n",
    "plt.show()"
   ]
  },
  {
   "cell_type": "code",
   "execution_count": 185,
   "metadata": {},
   "outputs": [],
   "source": [
    "#HoughTransform -Circles\n",
    "logo = cv2.imread(\"/home/ashritha/ImageProcessing/HoughTransform/logo.png\")"
   ]
  },
  {
   "cell_type": "code",
   "execution_count": 186,
   "metadata": {},
   "outputs": [],
   "source": [
    "plt.imshow(logo)\n",
    "plt.show()"
   ]
  },
  {
   "cell_type": "code",
   "execution_count": 187,
   "metadata": {},
   "outputs": [],
   "source": [
    "logogray = cv2.cvtColor(logo,cv2.COLOR_BGR2GRAY)"
   ]
  },
  {
   "cell_type": "code",
   "execution_count": 188,
   "metadata": {},
   "outputs": [
    {
     "data": {
      "text/plain": [
       "True"
      ]
     },
     "execution_count": 188,
     "metadata": {},
     "output_type": "execute_result"
    }
   ],
   "source": [
    "plt.imshow(logogray,cmap=\"gray\")\n",
    "plt.show()\n",
    "cv2.imwrite(\"/home/ashritha/ImageProcessing/HoughTransform/logogray.png\",logogray)"
   ]
  },
  {
   "cell_type": "code",
   "execution_count": 189,
   "metadata": {},
   "outputs": [
    {
     "name": "stdout",
     "output_type": "stream",
     "text": [
      "Help on built-in function HoughCircles:\n",
      "\n",
      "HoughCircles(...)\n",
      "    HoughCircles(image, method, dp, minDist[, circles[, param1[, param2[, minRadius[, maxRadius]]]]]) -> circles\n",
      "\n"
     ]
    }
   ],
   "source": [
    "help(cv2.HoughCircles)"
   ]
  },
  {
   "cell_type": "code",
   "execution_count": 191,
   "metadata": {},
   "outputs": [],
   "source": [
    "circles = cv2.HoughCircles(logogray,cv2.HOUGH_GRADIENT,1,20,param1=50,param2=30,minRadius = 0, maxRadius = 0)"
   ]
  },
  {
   "cell_type": "code",
   "execution_count": 192,
   "metadata": {},
   "outputs": [
    {
     "data": {
      "text/plain": [
       "array([[[ 449.5       ,  416.5       ,  133.26850891],\n",
       "        [ 152.5       ,  419.5       ,  151.56680298],\n",
       "        [ 251.5       ,  662.5       ,   26.54241753],\n",
       "        [ 130.5       ,  411.5       ,   66.10975647],\n",
       "        [  58.5       ,  650.5       ,   54.88624573],\n",
       "        [ 160.5       ,  672.5       ,   17.67766953],\n",
       "        [ 302.5       ,  143.5       ,  145.802948  ],\n",
       "        [ 438.5       ,  656.5       ,   51.21035004],\n",
       "        [  56.5       ,  625.5       ,   50.81830215],\n",
       "        [ 437.5       ,  634.5       ,   50.81830215],\n",
       "        [ 468.5       ,  407.5       ,  126.5167923 ],\n",
       "        [ 450.5       ,  675.5       ,   37.34300613],\n",
       "        [ 168.5       ,  649.5       ,   30.70016098],\n",
       "        [ 347.5       ,  655.5       ,   34.82097244],\n",
       "        [ 456.5       ,  646.5       ,   51.50242615],\n",
       "        [  42.5       ,  664.5       ,   41.5030098 ],\n",
       "        [ 445.5       ,  436.5       ,  115.59627533]]], dtype=float32)"
      ]
     },
     "execution_count": 192,
     "metadata": {},
     "output_type": "execute_result"
    }
   ],
   "source": [
    "circles"
   ]
  },
  {
   "cell_type": "code",
   "execution_count": 193,
   "metadata": {},
   "outputs": [],
   "source": [
    "circles = np.uint16(np.around(circles))"
   ]
  },
  {
   "cell_type": "code",
   "execution_count": 194,
   "metadata": {},
   "outputs": [
    {
     "data": {
      "text/plain": [
       "array([[[450, 416, 133],\n",
       "        [152, 420, 152],\n",
       "        [252, 662,  27],\n",
       "        [130, 412,  66],\n",
       "        [ 58, 650,  55],\n",
       "        [160, 672,  18],\n",
       "        [302, 144, 146],\n",
       "        [438, 656,  51],\n",
       "        [ 56, 626,  51],\n",
       "        [438, 634,  51],\n",
       "        [468, 408, 127],\n",
       "        [450, 676,  37],\n",
       "        [168, 650,  31],\n",
       "        [348, 656,  35],\n",
       "        [456, 646,  52],\n",
       "        [ 42, 664,  42],\n",
       "        [446, 436, 116]]], dtype=uint16)"
      ]
     },
     "execution_count": 194,
     "metadata": {},
     "output_type": "execute_result"
    }
   ],
   "source": [
    "circles"
   ]
  },
  {
   "cell_type": "code",
   "execution_count": 195,
   "metadata": {},
   "outputs": [
    {
     "name": "stdout",
     "output_type": "stream",
     "text": [
      "Help on built-in function circle:\n",
      "\n",
      "circle(...)\n",
      "    circle(img, center, radius, color[, thickness[, lineType[, shift]]]) -> img\n",
      "\n"
     ]
    }
   ],
   "source": [
    "help(cv2.circle)"
   ]
  },
  {
   "cell_type": "code",
   "execution_count": 196,
   "metadata": {},
   "outputs": [],
   "source": [
    "for i in circles[0,:]:\n",
    "    #draw outer circle\n",
    "    cv2.circle(logo,(i[0],i[1]),i[2],(0,0,255),2)\n",
    "    #draw inner circle\n",
    "    cv2.circle(logo,(i[0],i[1]),2,(0,255,0),3)\n",
    "    #save\n",
    "    cv2.imwrite(\"/home/ashritha/ImageProcessing/HoughTransform/logo.png\",logo)"
   ]
  },
  {
   "cell_type": "code",
   "execution_count": 197,
   "metadata": {},
   "outputs": [],
   "source": [
    "plt.imshow(logo)\n",
    "plt.show()"
   ]
  }
 ],
 "metadata": {
  "kernelspec": {
   "display_name": "Python 3",
   "language": "python",
   "name": "python3"
  },
  "language_info": {
   "codemirror_mode": {
    "name": "ipython",
    "version": 3
   },
   "file_extension": ".py",
   "mimetype": "text/x-python",
   "name": "python",
   "nbconvert_exporter": "python",
   "pygments_lexer": "ipython3",
   "version": "3.4.3"
  }
 },
 "nbformat": 4,
 "nbformat_minor": 2
}
