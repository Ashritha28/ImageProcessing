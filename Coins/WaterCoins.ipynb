{
 "cells": [
  {
   "cell_type": "code",
   "execution_count": 1,
   "metadata": {},
   "outputs": [],
   "source": [
    "import cv2\n",
    "import numpy as np\n",
    "import matplotlib.pyplot as plt"
   ]
  },
  {
   "cell_type": "code",
   "execution_count": 4,
   "metadata": {},
   "outputs": [],
   "source": [
    "coins = cv2.imread(\"/home/ashritha/ImageProcessing/Coins/water_coins.jpg\")"
   ]
  },
  {
   "cell_type": "code",
   "execution_count": 5,
   "metadata": {},
   "outputs": [],
   "source": [
    "plt.imshow(coins)\n",
    "plt.show()"
   ]
  },
  {
   "cell_type": "code",
   "execution_count": 6,
   "metadata": {},
   "outputs": [],
   "source": [
    "coinsgray = cv2.cvtColor(coins,cv2.COLOR_BGR2GRAY)"
   ]
  },
  {
   "cell_type": "code",
   "execution_count": 7,
   "metadata": {},
   "outputs": [],
   "source": [
    "plt.imshow(coinsgray)\n",
    "plt.show()"
   ]
  },
  {
   "cell_type": "code",
   "execution_count": 18,
   "metadata": {},
   "outputs": [],
   "source": [
    "ret,coinsBinary = cv2.threshold(coinsgray,0,255,cv2.THRESH_BINARY+cv2.THRESH_OTSU)"
   ]
  },
  {
   "cell_type": "code",
   "execution_count": 19,
   "metadata": {},
   "outputs": [],
   "source": [
    "plt.imshow(coinsBinary,cmap=\"gray\")\n",
    "plt.show()"
   ]
  },
  {
   "cell_type": "code",
   "execution_count": 20,
   "metadata": {},
   "outputs": [],
   "source": [
    "#Maximum water that will fit between the coins\n",
    "output = cv2.connectedComponentsWithStats(coinsBinary,4,cv2.CV_32S)"
   ]
  },
  {
   "cell_type": "code",
   "execution_count": 21,
   "metadata": {},
   "outputs": [],
   "source": [
    "components = output[0]\n",
    "labelImg = output[1]\n",
    "stats = output[2]"
   ]
  },
  {
   "cell_type": "code",
   "execution_count": 22,
   "metadata": {},
   "outputs": [
    {
     "data": {
      "text/plain": [
       "16"
      ]
     },
     "execution_count": 22,
     "metadata": {},
     "output_type": "execute_result"
    }
   ],
   "source": [
    "components"
   ]
  },
  {
   "cell_type": "code",
   "execution_count": 27,
   "metadata": {},
   "outputs": [],
   "source": [
    "plt.imshow(labelImg)\n",
    "plt.show()"
   ]
  },
  {
   "cell_type": "code",
   "execution_count": 24,
   "metadata": {},
   "outputs": [
    {
     "data": {
      "text/plain": [
       "array([[    0,    14,   242,   298, 43951],\n",
       "       [    0,     0,   252,   312, 24925],\n",
       "       [  117,    73,    10,     9,    45],\n",
       "       [   99,    96,    11,    11,    60],\n",
       "       [  109,   117,    33,    23,   323],\n",
       "       [   42,   119,    29,    29,   454],\n",
       "       [    0,   146,   124,   166,  5653],\n",
       "       [   82,   146,    24,    31,   325],\n",
       "       [  141,   157,    52,    33,   618],\n",
       "       [  109,   178,    25,    33,   340],\n",
       "       [   49,   186,    25,    22,   381],\n",
       "       [  148,   206,    31,    24,   297],\n",
       "       [   79,   222,    28,    19,   363],\n",
       "       [  115,   248,    53,    33,   657],\n",
       "       [   58,   252,    12,     9,    55],\n",
       "       [  138,   299,    29,    13,   177]], dtype=int32)"
      ]
     },
     "execution_count": 24,
     "metadata": {},
     "output_type": "execute_result"
    }
   ],
   "source": [
    "stats"
   ]
  },
  {
   "cell_type": "code",
   "execution_count": 25,
   "metadata": {},
   "outputs": [],
   "source": [
    "areas = stats[:,-1]"
   ]
  },
  {
   "cell_type": "code",
   "execution_count": 26,
   "metadata": {},
   "outputs": [
    {
     "data": {
      "text/plain": [
       "array([43951, 24925,    45,    60,   323,   454,  5653,   325,   618,\n",
       "         340,   381,   297,   363,   657,    55,   177], dtype=int32)"
      ]
     },
     "execution_count": 26,
     "metadata": {},
     "output_type": "execute_result"
    }
   ],
   "source": [
    "areas"
   ]
  },
  {
   "cell_type": "code",
   "execution_count": 31,
   "metadata": {},
   "outputs": [],
   "source": [
    "max_area = areas[3]\n",
    "second_max_area = areas[2]\n",
    "max_label = 4\n",
    "second_max_label = 3\n",
    "for i in range(5,components):\n",
    "    if(areas[i]>max_area):\n",
    "        second_max_area = max_area\n",
    "        second_max_label = max_label\n",
    "        max_area = areas[i]\n",
    "        max_label = i\n",
    "    elif(areas[i]>second_max_area):\n",
    "        second_max_area = areas[i]\n",
    "        second_max_label = i"
   ]
  },
  {
   "cell_type": "code",
   "execution_count": 33,
   "metadata": {},
   "outputs": [
    {
     "data": {
      "text/plain": [
       "657"
      ]
     },
     "execution_count": 33,
     "metadata": {},
     "output_type": "execute_result"
    }
   ],
   "source": [
    "second_max_area"
   ]
  },
  {
   "cell_type": "code",
   "execution_count": 35,
   "metadata": {},
   "outputs": [],
   "source": [
    "outputImg = np.zeros(labelImg.shape)\n",
    "outputImg[labelImg==second_max_label] = 255"
   ]
  },
  {
   "cell_type": "code",
   "execution_count": 37,
   "metadata": {},
   "outputs": [
    {
     "data": {
      "text/plain": [
       "True"
      ]
     },
     "execution_count": 37,
     "metadata": {},
     "output_type": "execute_result"
    }
   ],
   "source": [
    "plt.imshow(outputImg)\n",
    "plt.show()\n",
    "cv2.imwrite(\"/home/ashritha/ImageProcessing/Coins/finalOutput.png\",outputImg)"
   ]
  }
 ],
 "metadata": {
  "kernelspec": {
   "display_name": "Python 3",
   "language": "python",
   "name": "python3"
  },
  "language_info": {
   "codemirror_mode": {
    "name": "ipython",
    "version": 3
   },
   "file_extension": ".py",
   "mimetype": "text/x-python",
   "name": "python",
   "nbconvert_exporter": "python",
   "pygments_lexer": "ipython3",
   "version": "3.4.3"
  }
 },
 "nbformat": 4,
 "nbformat_minor": 2
}
